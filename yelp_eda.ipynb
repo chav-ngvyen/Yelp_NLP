{
 "cells": [
  {
   "cell_type": "code",
   "execution_count": 1,
   "id": "7dfff9cc",
   "metadata": {},
   "outputs": [],
   "source": [
    "import json\n",
    "import re\n",
    "from textblob import Word\n",
    "from typing import List\n",
    "import pandas as pd\n",
    "import numpy as np\n",
    "\n",
    "import multiprocessing; cores = multiprocessing.cpu_count() # Count the number of cores in a computer\n",
    "\n",
    "from my_functions import get_cat, review_len, convert_category, decontracted, preprocess"
   ]
  },
  {
   "cell_type": "code",
   "execution_count": 2,
   "id": "8a680c4c",
   "metadata": {},
   "outputs": [],
   "source": [
    "data_file = open(\"./archive/yelp_academic_dataset_business.json\",errors = 'ignore', encoding='utf-8')\n",
    "data = []\n",
    "for line in data_file:\n",
    "    data.append(json.loads(line))\n",
    "    \n",
    "business_df = pd.DataFrame(data)\n",
    "data_file.close()"
   ]
  },
  {
   "cell_type": "code",
   "execution_count": 3,
   "id": "fa613264",
   "metadata": {
    "scrolled": true
   },
   "outputs": [
    {
     "data": {
      "text/plain": [
       "(150346, 14)"
      ]
     },
     "execution_count": 3,
     "metadata": {},
     "output_type": "execute_result"
    }
   ],
   "source": [
    "business_df.shape"
   ]
  },
  {
   "cell_type": "code",
   "execution_count": 4,
   "id": "3bda7e93",
   "metadata": {},
   "outputs": [],
   "source": [
    "# Replace NoneType in categories column with \"\"\n",
    "business_df.categories = business_df.categories.apply(lambda x: x if x is not None else \"\")"
   ]
  },
  {
   "cell_type": "code",
   "execution_count": 5,
   "id": "bc227d8f",
   "metadata": {},
   "outputs": [],
   "source": [
    "# Split string by comma to get list of tags\n",
    "tokens = business_df.categories.str.split(\", \")"
   ]
  },
  {
   "cell_type": "code",
   "execution_count": 6,
   "id": "9824062b",
   "metadata": {},
   "outputs": [],
   "source": [
    "# Apply convert function \n",
    "token_list = [convert_category(t) for t in tokens]"
   ]
  },
  {
   "cell_type": "code",
   "execution_count": 7,
   "id": "cf513cad",
   "metadata": {},
   "outputs": [
    {
     "data": {
      "text/plain": [
       "[['doctor',\n",
       "  'traditional_chinese_medicine',\n",
       "  'naturopathic_holistic',\n",
       "  'acupuncture',\n",
       "  'health_medical',\n",
       "  'nutritionist'],\n",
       " ['shipping_center',\n",
       "  'local_service',\n",
       "  'notary',\n",
       "  'mailbox_center',\n",
       "  'printing_service']]"
      ]
     },
     "execution_count": 7,
     "metadata": {},
     "output_type": "execute_result"
    }
   ],
   "source": [
    "token_list[:2]"
   ]
  },
  {
   "cell_type": "code",
   "execution_count": 8,
   "id": "bb1d1a64",
   "metadata": {},
   "outputs": [
    {
     "data": {
      "text/plain": [
       "['doctor traditional_chinese_medicine naturopathic_holistic acupuncture health_medical nutritionist',\n",
       " 'shipping_center local_service notary mailbox_center printing_service']"
      ]
     },
     "execution_count": 8,
     "metadata": {},
     "output_type": "execute_result"
    }
   ],
   "source": [
    "# flatten list of lists for Tfidf vectorizer\n",
    "token_list2 = [\" \".join(x) for x in token_list]\n",
    "token_list2[:2]"
   ]
  },
  {
   "cell_type": "code",
   "execution_count": 9,
   "id": "a18d2325",
   "metadata": {},
   "outputs": [],
   "source": [
    "yelp_cat = ['active_life', 'arts_entertainment', 'automotive', 'beauty_spa', 'education',\n",
    "            'event_planning_service', 'financial_service', 'food', 'health_medical',\n",
    "            'home_service', 'hotels_travel', 'local_flavor', 'local_service',\n",
    "            'mass_media', 'night_life', 'professional_service', 'public_services_government',\n",
    "            'real_estate', 'religious_organization', 'restaurant', 'shopping']        "
   ]
  },
  {
   "cell_type": "code",
   "execution_count": 10,
   "id": "85a128e8",
   "metadata": {},
   "outputs": [],
   "source": [
    "business_df['categories_list'] = pd.Series(token_list2).map(lambda x: x)"
   ]
  },
  {
   "cell_type": "code",
   "execution_count": 11,
   "id": "ecbe8262",
   "metadata": {},
   "outputs": [],
   "source": [
    "business_df['categories_list'] = [x.split(\" \") for x in business_df['categories_list']]"
   ]
  },
  {
   "cell_type": "code",
   "execution_count": 12,
   "id": "8f87d14b",
   "metadata": {},
   "outputs": [],
   "source": [
    "business_df['yelp_cat'] = business_df['categories_list'].apply(lambda x: get_cat(x, yelp_cat))"
   ]
  },
  {
   "cell_type": "code",
   "execution_count": 13,
   "id": "87b56674",
   "metadata": {},
   "outputs": [],
   "source": [
    "business_count = business_df.yelp_cat.value_counts().reset_index()"
   ]
  },
  {
   "cell_type": "code",
   "execution_count": 14,
   "id": "7d163787",
   "metadata": {},
   "outputs": [],
   "source": [
    "business_count['cat'] = business_count['index'].apply(lambda x: x[0])"
   ]
  },
  {
   "cell_type": "markdown",
   "id": "373941f7",
   "metadata": {},
   "source": [
    "# Read in review content"
   ]
  },
  {
   "cell_type": "code",
   "execution_count": 15,
   "id": "2c6486fb",
   "metadata": {},
   "outputs": [],
   "source": [
    "data_file = open(\"./archive/yelp_academic_dataset_review.json\",errors = 'ignore', encoding='utf-8')\n",
    "data = []\n",
    "for line in data_file:\n",
    "    data.append(json.loads(line))\n",
    "    \n",
    "review_df = pd.DataFrame(data)\n",
    "data_file.close()"
   ]
  },
  {
   "cell_type": "code",
   "execution_count": 16,
   "id": "24ca2859",
   "metadata": {},
   "outputs": [
    {
     "data": {
      "text/plain": [
       "(6990280, 9)"
      ]
     },
     "execution_count": 16,
     "metadata": {},
     "output_type": "execute_result"
    }
   ],
   "source": [
    "review_df.shape"
   ]
  },
  {
   "cell_type": "markdown",
   "id": "fe280d2c",
   "metadata": {},
   "source": [
    "# Join"
   ]
  },
  {
   "cell_type": "code",
   "execution_count": 17,
   "id": "a3446059",
   "metadata": {},
   "outputs": [],
   "source": [
    "review_df = review_df.merge(business_df, how = 'left', on = 'business_id')"
   ]
  },
  {
   "cell_type": "code",
   "execution_count": 18,
   "id": "2fecee6b",
   "metadata": {},
   "outputs": [],
   "source": [
    "review_df = review_df.rename(columns={\"stars_x\": \"review_rating\", \"stars_y\": \"business_rating\"})"
   ]
  },
  {
   "cell_type": "code",
   "execution_count": 19,
   "id": "90abbb7c",
   "metadata": {},
   "outputs": [
    {
     "data": {
      "text/plain": [
       "(restaurant, 19)                    3790571\n",
       "(food, 7)                            983876\n",
       "(shopping, 20)                       318972\n",
       "(beauty_spa, 3)                      301031\n",
       "(event_planning_service, 5)          250722\n",
       "(automotive, 2)                      204688\n",
       "(arts_entertainment, 1)              166894\n",
       "(hotels_travel, 10)                  160006\n",
       "(health_medical, 8)                  143858\n",
       "(home_service, 9)                    142275\n",
       "(active_life, 0)                     131073\n",
       "(local_service, 12)                  112217\n",
       "(local_flavor, 11)                    49297\n",
       "(professional_service, 15)            27429\n",
       "(real_estate, 17)                     23755\n",
       "(public_services_government, 16)      19736\n",
       "(education, 4)                        15921\n",
       "(financial_service, 6)                14553\n",
       "(religious_organization, 18)           3416\n",
       "Name: yelp_cat, dtype: int64"
      ]
     },
     "execution_count": 19,
     "metadata": {},
     "output_type": "execute_result"
    }
   ],
   "source": [
    "review_df.yelp_cat.value_counts()"
   ]
  },
  {
   "cell_type": "code",
   "execution_count": 20,
   "id": "0317ddf3",
   "metadata": {},
   "outputs": [],
   "source": [
    "review_df['cat'] =   review_df['yelp_cat'].str[0]"
   ]
  },
  {
   "cell_type": "markdown",
   "id": "4cd3d9c9",
   "metadata": {},
   "source": [
    "# Train Test Split"
   ]
  },
  {
   "cell_type": "code",
   "execution_count": 21,
   "id": "1edbdd96",
   "metadata": {},
   "outputs": [],
   "source": [
    "from sklearn.model_selection import train_test_split\n",
    "\n",
    "# train, test\n",
    "train, test = train_test_split(review_df, test_size=0.25, random_state=42)\n",
    "\n",
    "# split train into train and val\n",
    "val, test = train_test_split(test, test_size = 0.40, random_state=42 )"
   ]
  },
  {
   "cell_type": "code",
   "execution_count": 22,
   "id": "99dcda4b",
   "metadata": {},
   "outputs": [
    {
     "name": "stdout",
     "output_type": "stream",
     "text": [
      "(5242710, 25) (1048542, 25) (699028, 25)\n"
     ]
    }
   ],
   "source": [
    "print(train.shape, val.shape, test.shape)"
   ]
  },
  {
   "cell_type": "code",
   "execution_count": 23,
   "id": "d8913b70",
   "metadata": {},
   "outputs": [
    {
     "data": {
      "text/plain": [
       "Index(['review_id', 'user_id', 'business_id', 'review_rating', 'useful',\n",
       "       'funny', 'cool', 'text', 'date', 'name', 'address', 'city', 'state',\n",
       "       'postal_code', 'latitude', 'longitude', 'business_rating',\n",
       "       'review_count', 'is_open', 'attributes', 'categories', 'hours',\n",
       "       'categories_list', 'yelp_cat', 'cat'],\n",
       "      dtype='object')"
      ]
     },
     "execution_count": 23,
     "metadata": {},
     "output_type": "execute_result"
    }
   ],
   "source": [
    "train.columns"
   ]
  },
  {
   "cell_type": "markdown",
   "id": "18925953",
   "metadata": {},
   "source": [
    "# EDA"
   ]
  },
  {
   "cell_type": "code",
   "execution_count": 24,
   "id": "703ca468",
   "metadata": {},
   "outputs": [],
   "source": [
    "import seaborn as sns\n",
    "import matplotlib.pyplot as plt"
   ]
  },
  {
   "cell_type": "markdown",
   "id": "b364e711",
   "metadata": {},
   "source": [
    "## Count Plot"
   ]
  },
  {
   "cell_type": "code",
   "execution_count": 25,
   "id": "503f705f",
   "metadata": {},
   "outputs": [
    {
     "data": {
      "image/png": "[encoded data removed]",
      "text/plain": [
       "<Figure size 864x576 with 1 Axes>"
      ]
     },
     "metadata": {
      "needs_background": "light"
     },
     "output_type": "display_data"
    }
   ],
   "source": [
    "\n",
    "sns.set(style = \"white\",font_scale = 1.5)\n",
    "plt.figure(figsize = (12,8))\n",
    "\n",
    "\n",
    "\n",
    "ax = sns.countplot(y=train['cat'],\n",
    "                   order=train['cat'].value_counts(ascending=False).index);\n",
    "\n",
    "abs_values = train['cat'].value_counts(ascending=False).values\n",
    "\n",
    "ax.bar_label(container=ax.containers[0], labels=abs_values)\n",
    "\n",
    "\n",
    "plt.ylabel(\"Business Categories\")\n",
    "plt.xlabel(\"Number of reviews\")\n",
    "plt.title(\"Total reviews by business categories - training data\")\n",
    "plt.savefig(\"./figs/reviews_business_categories.png\",bbox_inches=\"tight\", transparent=True)"
   ]
  },
  {
   "cell_type": "code",
   "execution_count": 26,
   "id": "5da26b7e",
   "metadata": {},
   "outputs": [
    {
     "data": {
      "image/png": "[encoded data removed]",
      "text/plain": [
       "<Figure size 1152x576 with 1 Axes>"
      ]
     },
     "metadata": {},
     "output_type": "display_data"
    }
   ],
   "source": [
    "\n",
    "sns.set(style = \"white\",font_scale = 1.5)\n",
    "plt.figure(figsize = (16,8))\n",
    "ax = sns.boxplot(x=\"cat\", y=\"review_rating\", data=train,medianprops={'color':'blue','ls': '-', 'lw': 6})\n",
    "ax.set_ylim(0.5,5.5)\n",
    "\n",
    "ax.set_xticklabels(ax.get_xticklabels(),rotation=90)\n",
    "\n",
    "plt.xlabel(\"Business Categories\")\n",
    "plt.ylabel(\"Star Ratings\")\n",
    "plt.title(\"Star ratings by business categories - training data\")\n",
    "plt.savefig(\"./figs/star_ratings_business_categories.png\",bbox_inches=\"tight\", transparent=True)"
   ]
  },
  {
   "cell_type": "code",
   "execution_count": 27,
   "id": "aad8e8ed",
   "metadata": {},
   "outputs": [
    {
     "data": {
      "text/html": [
       "<div>\n",
       "<style scoped>\n",
       "    .dataframe tbody tr th:only-of-type {\n",
       "        vertical-align: middle;\n",
       "    }\n",
       "\n",
       "    .dataframe tbody tr th {\n",
       "        vertical-align: top;\n",
       "    }\n",
       "\n",
       "    .dataframe thead th {\n",
       "        text-align: right;\n",
       "    }\n",
       "</style>\n",
       "<table border=\"1\" class=\"dataframe\">\n",
       "  <thead>\n",
       "    <tr style=\"text-align: right;\">\n",
       "      <th></th>\n",
       "      <th>count</th>\n",
       "      <th>mean</th>\n",
       "      <th>std</th>\n",
       "      <th>min</th>\n",
       "      <th>25%</th>\n",
       "      <th>50%</th>\n",
       "      <th>75%</th>\n",
       "      <th>max</th>\n",
       "    </tr>\n",
       "    <tr>\n",
       "      <th>cat</th>\n",
       "      <th></th>\n",
       "      <th></th>\n",
       "      <th></th>\n",
       "      <th></th>\n",
       "      <th></th>\n",
       "      <th></th>\n",
       "      <th></th>\n",
       "      <th></th>\n",
       "    </tr>\n",
       "  </thead>\n",
       "  <tbody>\n",
       "    <tr>\n",
       "      <th>active_life</th>\n",
       "      <td>98333.0</td>\n",
       "      <td>3.932566</td>\n",
       "      <td>1.428864</td>\n",
       "      <td>1.0</td>\n",
       "      <td>3.0</td>\n",
       "      <td>5.0</td>\n",
       "      <td>5.0</td>\n",
       "      <td>5.0</td>\n",
       "    </tr>\n",
       "    <tr>\n",
       "      <th>arts_entertainment</th>\n",
       "      <td>125251.0</td>\n",
       "      <td>3.822884</td>\n",
       "      <td>1.374501</td>\n",
       "      <td>1.0</td>\n",
       "      <td>3.0</td>\n",
       "      <td>4.0</td>\n",
       "      <td>5.0</td>\n",
       "      <td>5.0</td>\n",
       "    </tr>\n",
       "    <tr>\n",
       "      <th>automotive</th>\n",
       "      <td>153306.0</td>\n",
       "      <td>3.368779</td>\n",
       "      <td>1.829525</td>\n",
       "      <td>1.0</td>\n",
       "      <td>1.0</td>\n",
       "      <td>5.0</td>\n",
       "      <td>5.0</td>\n",
       "      <td>5.0</td>\n",
       "    </tr>\n",
       "    <tr>\n",
       "      <th>beauty_spa</th>\n",
       "      <td>225675.0</td>\n",
       "      <td>3.875467</td>\n",
       "      <td>1.603277</td>\n",
       "      <td>1.0</td>\n",
       "      <td>3.0</td>\n",
       "      <td>5.0</td>\n",
       "      <td>5.0</td>\n",
       "      <td>5.0</td>\n",
       "    </tr>\n",
       "    <tr>\n",
       "      <th>education</th>\n",
       "      <td>12031.0</td>\n",
       "      <td>3.941235</td>\n",
       "      <td>1.515601</td>\n",
       "      <td>1.0</td>\n",
       "      <td>3.0</td>\n",
       "      <td>5.0</td>\n",
       "      <td>5.0</td>\n",
       "      <td>5.0</td>\n",
       "    </tr>\n",
       "    <tr>\n",
       "      <th>event_planning_service</th>\n",
       "      <td>187971.0</td>\n",
       "      <td>3.642221</td>\n",
       "      <td>1.499376</td>\n",
       "      <td>1.0</td>\n",
       "      <td>2.0</td>\n",
       "      <td>4.0</td>\n",
       "      <td>5.0</td>\n",
       "      <td>5.0</td>\n",
       "    </tr>\n",
       "    <tr>\n",
       "      <th>financial_service</th>\n",
       "      <td>10889.0</td>\n",
       "      <td>2.667003</td>\n",
       "      <td>1.817403</td>\n",
       "      <td>1.0</td>\n",
       "      <td>1.0</td>\n",
       "      <td>2.0</td>\n",
       "      <td>5.0</td>\n",
       "      <td>5.0</td>\n",
       "    </tr>\n",
       "    <tr>\n",
       "      <th>food</th>\n",
       "      <td>738155.0</td>\n",
       "      <td>3.906265</td>\n",
       "      <td>1.361871</td>\n",
       "      <td>1.0</td>\n",
       "      <td>3.0</td>\n",
       "      <td>4.0</td>\n",
       "      <td>5.0</td>\n",
       "      <td>5.0</td>\n",
       "    </tr>\n",
       "    <tr>\n",
       "      <th>health_medical</th>\n",
       "      <td>107997.0</td>\n",
       "      <td>3.540830</td>\n",
       "      <td>1.790448</td>\n",
       "      <td>1.0</td>\n",
       "      <td>1.0</td>\n",
       "      <td>5.0</td>\n",
       "      <td>5.0</td>\n",
       "      <td>5.0</td>\n",
       "    </tr>\n",
       "    <tr>\n",
       "      <th>home_service</th>\n",
       "      <td>106813.0</td>\n",
       "      <td>3.433384</td>\n",
       "      <td>1.846219</td>\n",
       "      <td>1.0</td>\n",
       "      <td>1.0</td>\n",
       "      <td>5.0</td>\n",
       "      <td>5.0</td>\n",
       "      <td>5.0</td>\n",
       "    </tr>\n",
       "    <tr>\n",
       "      <th>hotels_travel</th>\n",
       "      <td>120051.0</td>\n",
       "      <td>3.313550</td>\n",
       "      <td>1.643858</td>\n",
       "      <td>1.0</td>\n",
       "      <td>1.0</td>\n",
       "      <td>4.0</td>\n",
       "      <td>5.0</td>\n",
       "      <td>5.0</td>\n",
       "    </tr>\n",
       "    <tr>\n",
       "      <th>local_flavor</th>\n",
       "      <td>37117.0</td>\n",
       "      <td>4.026161</td>\n",
       "      <td>1.252238</td>\n",
       "      <td>1.0</td>\n",
       "      <td>4.0</td>\n",
       "      <td>4.0</td>\n",
       "      <td>5.0</td>\n",
       "      <td>5.0</td>\n",
       "    </tr>\n",
       "    <tr>\n",
       "      <th>local_service</th>\n",
       "      <td>84162.0</td>\n",
       "      <td>3.569461</td>\n",
       "      <td>1.773723</td>\n",
       "      <td>1.0</td>\n",
       "      <td>1.0</td>\n",
       "      <td>5.0</td>\n",
       "      <td>5.0</td>\n",
       "      <td>5.0</td>\n",
       "    </tr>\n",
       "    <tr>\n",
       "      <th>professional_service</th>\n",
       "      <td>20518.0</td>\n",
       "      <td>3.452237</td>\n",
       "      <td>1.800834</td>\n",
       "      <td>1.0</td>\n",
       "      <td>1.0</td>\n",
       "      <td>5.0</td>\n",
       "      <td>5.0</td>\n",
       "      <td>5.0</td>\n",
       "    </tr>\n",
       "    <tr>\n",
       "      <th>public_services_government</th>\n",
       "      <td>14826.0</td>\n",
       "      <td>3.661001</td>\n",
       "      <td>1.564061</td>\n",
       "      <td>1.0</td>\n",
       "      <td>2.0</td>\n",
       "      <td>4.0</td>\n",
       "      <td>5.0</td>\n",
       "      <td>5.0</td>\n",
       "    </tr>\n",
       "    <tr>\n",
       "      <th>real_estate</th>\n",
       "      <td>17716.0</td>\n",
       "      <td>2.823944</td>\n",
       "      <td>1.851712</td>\n",
       "      <td>1.0</td>\n",
       "      <td>1.0</td>\n",
       "      <td>2.0</td>\n",
       "      <td>5.0</td>\n",
       "      <td>5.0</td>\n",
       "    </tr>\n",
       "    <tr>\n",
       "      <th>religious_organization</th>\n",
       "      <td>2558.0</td>\n",
       "      <td>4.241595</td>\n",
       "      <td>1.249590</td>\n",
       "      <td>1.0</td>\n",
       "      <td>4.0</td>\n",
       "      <td>5.0</td>\n",
       "      <td>5.0</td>\n",
       "      <td>5.0</td>\n",
       "    </tr>\n",
       "    <tr>\n",
       "      <th>restaurant</th>\n",
       "      <td>2843057.0</td>\n",
       "      <td>3.778614</td>\n",
       "      <td>1.397052</td>\n",
       "      <td>1.0</td>\n",
       "      <td>3.0</td>\n",
       "      <td>4.0</td>\n",
       "      <td>5.0</td>\n",
       "      <td>5.0</td>\n",
       "    </tr>\n",
       "    <tr>\n",
       "      <th>shopping</th>\n",
       "      <td>239150.0</td>\n",
       "      <td>3.608835</td>\n",
       "      <td>1.627412</td>\n",
       "      <td>1.0</td>\n",
       "      <td>2.0</td>\n",
       "      <td>4.0</td>\n",
       "      <td>5.0</td>\n",
       "      <td>5.0</td>\n",
       "    </tr>\n",
       "  </tbody>\n",
       "</table>\n",
       "</div>"
      ],
      "text/plain": [
       "                                count      mean       std  min  25%  50%  75%  \\\n",
       "cat                                                                             \n",
       "active_life                   98333.0  3.932566  1.428864  1.0  3.0  5.0  5.0   \n",
       "arts_entertainment           125251.0  3.822884  1.374501  1.0  3.0  4.0  5.0   \n",
       "automotive                   153306.0  3.368779  1.829525  1.0  1.0  5.0  5.0   \n",
       "beauty_spa                   225675.0  3.875467  1.603277  1.0  3.0  5.0  5.0   \n",
       "education                     12031.0  3.941235  1.515601  1.0  3.0  5.0  5.0   \n",
       "event_planning_service       187971.0  3.642221  1.499376  1.0  2.0  4.0  5.0   \n",
       "financial_service             10889.0  2.667003  1.817403  1.0  1.0  2.0  5.0   \n",
       "food                         738155.0  3.906265  1.361871  1.0  3.0  4.0  5.0   \n",
       "health_medical               107997.0  3.540830  1.790448  1.0  1.0  5.0  5.0   \n",
       "home_service                 106813.0  3.433384  1.846219  1.0  1.0  5.0  5.0   \n",
       "hotels_travel                120051.0  3.313550  1.643858  1.0  1.0  4.0  5.0   \n",
       "local_flavor                  37117.0  4.026161  1.252238  1.0  4.0  4.0  5.0   \n",
       "local_service                 84162.0  3.569461  1.773723  1.0  1.0  5.0  5.0   \n",
       "professional_service          20518.0  3.452237  1.800834  1.0  1.0  5.0  5.0   \n",
       "public_services_government    14826.0  3.661001  1.564061  1.0  2.0  4.0  5.0   \n",
       "real_estate                   17716.0  2.823944  1.851712  1.0  1.0  2.0  5.0   \n",
       "religious_organization         2558.0  4.241595  1.249590  1.0  4.0  5.0  5.0   \n",
       "restaurant                  2843057.0  3.778614  1.397052  1.0  3.0  4.0  5.0   \n",
       "shopping                     239150.0  3.608835  1.627412  1.0  2.0  4.0  5.0   \n",
       "\n",
       "                            max  \n",
       "cat                              \n",
       "active_life                 5.0  \n",
       "arts_entertainment          5.0  \n",
       "automotive                  5.0  \n",
       "beauty_spa                  5.0  \n",
       "education                   5.0  \n",
       "event_planning_service      5.0  \n",
       "financial_service           5.0  \n",
       "food                        5.0  \n",
       "health_medical              5.0  \n",
       "home_service                5.0  \n",
       "hotels_travel               5.0  \n",
       "local_flavor                5.0  \n",
       "local_service               5.0  \n",
       "professional_service        5.0  \n",
       "public_services_government  5.0  \n",
       "real_estate                 5.0  \n",
       "religious_organization      5.0  \n",
       "restaurant                  5.0  \n",
       "shopping                    5.0  "
      ]
     },
     "execution_count": 27,
     "metadata": {},
     "output_type": "execute_result"
    }
   ],
   "source": [
    "train.groupby(\"cat\")['review_rating'].describe()"
   ]
  },
  {
   "cell_type": "code",
   "execution_count": 32,
   "id": "d249f637",
   "metadata": {},
   "outputs": [],
   "source": [
    "business_rating = train.groupby([\"cat\",\"business_rating\"]).size().reset_index()"
   ]
  },
  {
   "cell_type": "markdown",
   "id": "9bbd62ac",
   "metadata": {},
   "source": [
    "# Review length\n"
   ]
  },
  {
   "cell_type": "code",
   "execution_count": 28,
   "id": "e7131a55",
   "metadata": {},
   "outputs": [],
   "source": [
    "train['text_len'] = train.text.apply(lambda x: review_len(x))"
   ]
  },
  {
   "cell_type": "code",
   "execution_count": 46,
   "id": "aa2521cd",
   "metadata": {},
   "outputs": [
    {
     "data": {
      "text/html": [
       "<div>\n",
       "<style scoped>\n",
       "    .dataframe tbody tr th:only-of-type {\n",
       "        vertical-align: middle;\n",
       "    }\n",
       "\n",
       "    .dataframe tbody tr th {\n",
       "        vertical-align: top;\n",
       "    }\n",
       "\n",
       "    .dataframe thead th {\n",
       "        text-align: right;\n",
       "    }\n",
       "</style>\n",
       "<table border=\"1\" class=\"dataframe\">\n",
       "  <thead>\n",
       "    <tr style=\"text-align: right;\">\n",
       "      <th></th>\n",
       "      <th>count</th>\n",
       "      <th>mean</th>\n",
       "      <th>std</th>\n",
       "      <th>min</th>\n",
       "      <th>25%</th>\n",
       "      <th>50%</th>\n",
       "      <th>75%</th>\n",
       "      <th>max</th>\n",
       "    </tr>\n",
       "    <tr>\n",
       "      <th>cat</th>\n",
       "      <th></th>\n",
       "      <th></th>\n",
       "      <th></th>\n",
       "      <th></th>\n",
       "      <th></th>\n",
       "      <th></th>\n",
       "      <th></th>\n",
       "      <th></th>\n",
       "    </tr>\n",
       "  </thead>\n",
       "  <tbody>\n",
       "    <tr>\n",
       "      <th>active_life</th>\n",
       "      <td>98333.0</td>\n",
       "      <td>119.578290</td>\n",
       "      <td>108.754856</td>\n",
       "      <td>1.0</td>\n",
       "      <td>49.0</td>\n",
       "      <td>87.0</td>\n",
       "      <td>153.0</td>\n",
       "      <td>1013.0</td>\n",
       "    </tr>\n",
       "    <tr>\n",
       "      <th>arts_entertainment</th>\n",
       "      <td>125251.0</td>\n",
       "      <td>114.301219</td>\n",
       "      <td>104.945874</td>\n",
       "      <td>1.0</td>\n",
       "      <td>46.0</td>\n",
       "      <td>83.0</td>\n",
       "      <td>147.0</td>\n",
       "      <td>1002.0</td>\n",
       "    </tr>\n",
       "    <tr>\n",
       "      <th>automotive</th>\n",
       "      <td>153306.0</td>\n",
       "      <td>120.085665</td>\n",
       "      <td>116.543518</td>\n",
       "      <td>1.0</td>\n",
       "      <td>47.0</td>\n",
       "      <td>84.0</td>\n",
       "      <td>149.0</td>\n",
       "      <td>1059.0</td>\n",
       "    </tr>\n",
       "    <tr>\n",
       "      <th>beauty_spa</th>\n",
       "      <td>225675.0</td>\n",
       "      <td>103.683323</td>\n",
       "      <td>95.857219</td>\n",
       "      <td>1.0</td>\n",
       "      <td>43.0</td>\n",
       "      <td>75.0</td>\n",
       "      <td>130.0</td>\n",
       "      <td>1021.0</td>\n",
       "    </tr>\n",
       "    <tr>\n",
       "      <th>education</th>\n",
       "      <td>12031.0</td>\n",
       "      <td>130.658299</td>\n",
       "      <td>121.653256</td>\n",
       "      <td>1.0</td>\n",
       "      <td>53.0</td>\n",
       "      <td>94.0</td>\n",
       "      <td>163.0</td>\n",
       "      <td>951.0</td>\n",
       "    </tr>\n",
       "    <tr>\n",
       "      <th>event_planning_service</th>\n",
       "      <td>187971.0</td>\n",
       "      <td>120.220598</td>\n",
       "      <td>110.781909</td>\n",
       "      <td>1.0</td>\n",
       "      <td>48.0</td>\n",
       "      <td>87.0</td>\n",
       "      <td>153.0</td>\n",
       "      <td>1002.0</td>\n",
       "    </tr>\n",
       "    <tr>\n",
       "      <th>financial_service</th>\n",
       "      <td>10889.0</td>\n",
       "      <td>118.213794</td>\n",
       "      <td>110.507840</td>\n",
       "      <td>3.0</td>\n",
       "      <td>48.0</td>\n",
       "      <td>85.0</td>\n",
       "      <td>149.0</td>\n",
       "      <td>1004.0</td>\n",
       "    </tr>\n",
       "    <tr>\n",
       "      <th>food</th>\n",
       "      <td>738155.0</td>\n",
       "      <td>96.832675</td>\n",
       "      <td>87.595130</td>\n",
       "      <td>1.0</td>\n",
       "      <td>39.0</td>\n",
       "      <td>70.0</td>\n",
       "      <td>124.0</td>\n",
       "      <td>997.0</td>\n",
       "    </tr>\n",
       "    <tr>\n",
       "      <th>health_medical</th>\n",
       "      <td>107997.0</td>\n",
       "      <td>124.228303</td>\n",
       "      <td>117.044269</td>\n",
       "      <td>1.0</td>\n",
       "      <td>50.0</td>\n",
       "      <td>89.0</td>\n",
       "      <td>155.0</td>\n",
       "      <td>1019.0</td>\n",
       "    </tr>\n",
       "    <tr>\n",
       "      <th>home_service</th>\n",
       "      <td>106813.0</td>\n",
       "      <td>124.242639</td>\n",
       "      <td>121.598580</td>\n",
       "      <td>1.0</td>\n",
       "      <td>50.0</td>\n",
       "      <td>87.0</td>\n",
       "      <td>151.0</td>\n",
       "      <td>1040.0</td>\n",
       "    </tr>\n",
       "    <tr>\n",
       "      <th>hotels_travel</th>\n",
       "      <td>120051.0</td>\n",
       "      <td>129.360222</td>\n",
       "      <td>119.045724</td>\n",
       "      <td>1.0</td>\n",
       "      <td>52.0</td>\n",
       "      <td>93.0</td>\n",
       "      <td>164.0</td>\n",
       "      <td>1029.0</td>\n",
       "    </tr>\n",
       "    <tr>\n",
       "      <th>local_flavor</th>\n",
       "      <td>37117.0</td>\n",
       "      <td>111.010507</td>\n",
       "      <td>99.595279</td>\n",
       "      <td>1.0</td>\n",
       "      <td>45.0</td>\n",
       "      <td>81.0</td>\n",
       "      <td>144.0</td>\n",
       "      <td>1001.0</td>\n",
       "    </tr>\n",
       "    <tr>\n",
       "      <th>local_service</th>\n",
       "      <td>84162.0</td>\n",
       "      <td>108.091062</td>\n",
       "      <td>102.757265</td>\n",
       "      <td>1.0</td>\n",
       "      <td>44.0</td>\n",
       "      <td>77.0</td>\n",
       "      <td>135.0</td>\n",
       "      <td>1016.0</td>\n",
       "    </tr>\n",
       "    <tr>\n",
       "      <th>professional_service</th>\n",
       "      <td>20518.0</td>\n",
       "      <td>113.267570</td>\n",
       "      <td>109.865119</td>\n",
       "      <td>6.0</td>\n",
       "      <td>46.0</td>\n",
       "      <td>80.0</td>\n",
       "      <td>140.0</td>\n",
       "      <td>1001.0</td>\n",
       "    </tr>\n",
       "    <tr>\n",
       "      <th>public_services_government</th>\n",
       "      <td>14826.0</td>\n",
       "      <td>113.587549</td>\n",
       "      <td>101.801643</td>\n",
       "      <td>4.0</td>\n",
       "      <td>47.0</td>\n",
       "      <td>83.0</td>\n",
       "      <td>144.0</td>\n",
       "      <td>952.0</td>\n",
       "    </tr>\n",
       "    <tr>\n",
       "      <th>real_estate</th>\n",
       "      <td>17716.0</td>\n",
       "      <td>156.672387</td>\n",
       "      <td>150.615638</td>\n",
       "      <td>2.0</td>\n",
       "      <td>60.0</td>\n",
       "      <td>108.0</td>\n",
       "      <td>196.0</td>\n",
       "      <td>990.0</td>\n",
       "    </tr>\n",
       "    <tr>\n",
       "      <th>religious_organization</th>\n",
       "      <td>2558.0</td>\n",
       "      <td>114.671228</td>\n",
       "      <td>111.693930</td>\n",
       "      <td>5.0</td>\n",
       "      <td>45.0</td>\n",
       "      <td>80.0</td>\n",
       "      <td>141.0</td>\n",
       "      <td>905.0</td>\n",
       "    </tr>\n",
       "    <tr>\n",
       "      <th>restaurant</th>\n",
       "      <td>2843057.0</td>\n",
       "      <td>99.847647</td>\n",
       "      <td>92.619956</td>\n",
       "      <td>1.0</td>\n",
       "      <td>39.0</td>\n",
       "      <td>71.0</td>\n",
       "      <td>128.0</td>\n",
       "      <td>1032.0</td>\n",
       "    </tr>\n",
       "    <tr>\n",
       "      <th>shopping</th>\n",
       "      <td>239150.0</td>\n",
       "      <td>112.004353</td>\n",
       "      <td>100.058975</td>\n",
       "      <td>1.0</td>\n",
       "      <td>47.0</td>\n",
       "      <td>83.0</td>\n",
       "      <td>143.0</td>\n",
       "      <td>1027.0</td>\n",
       "    </tr>\n",
       "  </tbody>\n",
       "</table>\n",
       "</div>"
      ],
      "text/plain": [
       "                                count        mean         std  min   25%  \\\n",
       "cat                                                                        \n",
       "active_life                   98333.0  119.578290  108.754856  1.0  49.0   \n",
       "arts_entertainment           125251.0  114.301219  104.945874  1.0  46.0   \n",
       "automotive                   153306.0  120.085665  116.543518  1.0  47.0   \n",
       "beauty_spa                   225675.0  103.683323   95.857219  1.0  43.0   \n",
       "education                     12031.0  130.658299  121.653256  1.0  53.0   \n",
       "event_planning_service       187971.0  120.220598  110.781909  1.0  48.0   \n",
       "financial_service             10889.0  118.213794  110.507840  3.0  48.0   \n",
       "food                         738155.0   96.832675   87.595130  1.0  39.0   \n",
       "health_medical               107997.0  124.228303  117.044269  1.0  50.0   \n",
       "home_service                 106813.0  124.242639  121.598580  1.0  50.0   \n",
       "hotels_travel                120051.0  129.360222  119.045724  1.0  52.0   \n",
       "local_flavor                  37117.0  111.010507   99.595279  1.0  45.0   \n",
       "local_service                 84162.0  108.091062  102.757265  1.0  44.0   \n",
       "professional_service          20518.0  113.267570  109.865119  6.0  46.0   \n",
       "public_services_government    14826.0  113.587549  101.801643  4.0  47.0   \n",
       "real_estate                   17716.0  156.672387  150.615638  2.0  60.0   \n",
       "religious_organization         2558.0  114.671228  111.693930  5.0  45.0   \n",
       "restaurant                  2843057.0   99.847647   92.619956  1.0  39.0   \n",
       "shopping                     239150.0  112.004353  100.058975  1.0  47.0   \n",
       "\n",
       "                              50%    75%     max  \n",
       "cat                                               \n",
       "active_life                  87.0  153.0  1013.0  \n",
       "arts_entertainment           83.0  147.0  1002.0  \n",
       "automotive                   84.0  149.0  1059.0  \n",
       "beauty_spa                   75.0  130.0  1021.0  \n",
       "education                    94.0  163.0   951.0  \n",
       "event_planning_service       87.0  153.0  1002.0  \n",
       "financial_service            85.0  149.0  1004.0  \n",
       "food                         70.0  124.0   997.0  \n",
       "health_medical               89.0  155.0  1019.0  \n",
       "home_service                 87.0  151.0  1040.0  \n",
       "hotels_travel                93.0  164.0  1029.0  \n",
       "local_flavor                 81.0  144.0  1001.0  \n",
       "local_service                77.0  135.0  1016.0  \n",
       "professional_service         80.0  140.0  1001.0  \n",
       "public_services_government   83.0  144.0   952.0  \n",
       "real_estate                 108.0  196.0   990.0  \n",
       "religious_organization       80.0  141.0   905.0  \n",
       "restaurant                   71.0  128.0  1032.0  \n",
       "shopping                     83.0  143.0  1027.0  "
      ]
     },
     "execution_count": 46,
     "metadata": {},
     "output_type": "execute_result"
    }
   ],
   "source": [
    "train.groupby('cat')['text_len'].describe()"
   ]
  },
  {
   "cell_type": "code",
   "execution_count": 50,
   "id": "e704902b",
   "metadata": {},
   "outputs": [
    {
     "data": {
      "text/plain": [
       "1.0    1578\n",
       "2.0     387\n",
       "5.0     350\n",
       "3.0     270\n",
       "4.0     237\n",
       "Name: review_rating, dtype: int64"
      ]
     },
     "execution_count": 50,
     "metadata": {},
     "output_type": "execute_result"
    }
   ],
   "source": [
    "train[train.text_len >= 900].review_rating.value_counts()"
   ]
  },
  {
   "cell_type": "markdown",
   "id": "310e1c8b",
   "metadata": {},
   "source": [
    "# Save data"
   ]
  },
  {
   "cell_type": "code",
   "execution_count": 47,
   "id": "de925608",
   "metadata": {},
   "outputs": [],
   "source": [
    "train.to_csv(\"./data/train.csv\", index = False)\n",
    "val.to_csv(\"./data/val.csv\", index = False)\n",
    "test.to_csv(\"./data/test.csv\", index = False)"
   ]
  },
  {
   "cell_type": "markdown",
   "id": "e72d88ce",
   "metadata": {},
   "source": [
    "# Top words"
   ]
  },
  {
   "cell_type": "code",
   "execution_count": null,
   "id": "06fe518b",
   "metadata": {},
   "outputs": [],
   "source": [
    "from sklearn.feature_extraction.text import CountVectorizer\n",
    "\n",
    "\n",
    "# 2: create dtm\n",
    "# custom_vectorizer = CountVectorizer(tokenizer=LemmaTokenizer(),\n",
    "#                                     strip_accents = 'unicode',\n",
    "#                                     lowercase=True)\n",
    "custom_vectorizer = CountVectorizer()\n",
    "# fit on review column\n",
    "X = custom_vectorizer.fit_transform(train[\"clean_text\"])"
   ]
  },
  {
   "cell_type": "code",
   "execution_count": null,
   "id": "3bde6966",
   "metadata": {},
   "outputs": [],
   "source": [
    "# list of tokens\n",
    "word_list = custom_vectorizer.get_feature_names()\n",
    "# sum the sparse array, reshape to get a 1-D array\n",
    "count_list = np.asarray(X.sum(axis=0)).reshape(-1,).tolist()\n",
    "# Word frequency\n",
    "word_freq = dict(zip(word_list, count_list))\n"
   ]
  },
  {
   "cell_type": "code",
   "execution_count": null,
   "id": "00fbbe1e",
   "metadata": {},
   "outputs": [],
   "source": [
    "# Most common words\n",
    "from collections import Counter\n",
    "dict(Counter(word_freq).most_common(50)).keys()"
   ]
  },
  {
   "cell_type": "code",
   "execution_count": null,
   "id": "68351a78",
   "metadata": {},
   "outputs": [],
   "source": [
    "top_50 = pd.Series(dict(Counter(word_freq).most_common(50)).keys(), name = 'token')"
   ]
  },
  {
   "cell_type": "code",
   "execution_count": null,
   "id": "979357b2",
   "metadata": {},
   "outputs": [],
   "source": [
    "top_50"
   ]
  }
 ],
 "metadata": {
  "kernelspec": {
   "display_name": "Python 3 (ipykernel)",
   "language": "python",
   "name": "python3"
  },
  "language_info": {
   "codemirror_mode": {
    "name": "ipython",
    "version": 3
   },
   "file_extension": ".py",
   "mimetype": "text/x-python",
   "name": "python",
   "nbconvert_exporter": "python",
   "pygments_lexer": "ipython3",
   "version": "3.9.12"
  }
 },
 "nbformat": 4,
 "nbformat_minor": 5
}
